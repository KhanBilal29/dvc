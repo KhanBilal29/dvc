{
 "cells": [
  {
   "cell_type": "code",
   "execution_count": 4,
   "metadata": {},
   "outputs": [
    {
     "data": {
      "text/plain": [
       "'import os \\nimport sys\\nimport pandas as pd\\nimport numpy as np\\nfrom dotenv import load_dotenv\\nimport pymysql\\n\\nload_dotenv()\\nhost=os.getenv(\"localhost\")\\nuser=os.getenv(\"root\")\\ndb=os.getenv(\"Txn20\")\\n\\n\\ndef read_sql_data():\\n\\n    mydb=pymysql.connect(\\n        host=host,\\n        user=user,\\n        db=db\\n    )\\n    \\n    df=pd.read_sql_query(\\'select * from transactions\\',mydb)\\n    print(df.head())\\n\\n    return df\\n\\n    \\n\\ndf = read_sql_data()\\nprint(df.head())\\n'"
      ]
     },
     "execution_count": 4,
     "metadata": {},
     "output_type": "execute_result"
    }
   ],
   "source": [
    "\"\"\"import os \n",
    "import sys\n",
    "import pandas as pd\n",
    "import numpy as np\n",
    "from dotenv import load_dotenv\n",
    "import pymysql\n",
    "\n",
    "load_dotenv()\n",
    "host=os.getenv(\"localhost\")\n",
    "user=os.getenv(\"root\")\n",
    "db=os.getenv(\"Txn20\")\n",
    "\n",
    "\n",
    "def read_sql_data():\n",
    "\n",
    "    mydb=pymysql.connect(\n",
    "        host=host,\n",
    "        user=user,\n",
    "        db=db\n",
    "    )\n",
    "    \n",
    "    df=pd.read_sql_query('select * from transactions',mydb)\n",
    "    print(df.head())\n",
    "\n",
    "    return df\n",
    "\n",
    "    \n",
    "\n",
    "df = read_sql_data()\n",
    "print(df.head())\n",
    "\"\"\""
   ]
  },
  {
   "cell_type": "code",
   "execution_count": null,
   "metadata": {},
   "outputs": [],
   "source": []
  }
 ],
 "metadata": {
  "kernelspec": {
   "display_name": "base",
   "language": "python",
   "name": "python3"
  },
  "language_info": {
   "codemirror_mode": {
    "name": "ipython",
    "version": 3
   },
   "file_extension": ".py",
   "mimetype": "text/x-python",
   "name": "python",
   "nbconvert_exporter": "python",
   "pygments_lexer": "ipython3",
   "version": "3.8.0"
  },
  "orig_nbformat": 4
 },
 "nbformat": 4,
 "nbformat_minor": 2
}
